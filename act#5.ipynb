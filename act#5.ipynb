{
 "cells": [
  {
   "cell_type": "code",
   "execution_count": 28,
   "metadata": {},
   "outputs": [
    {
     "name": "stdout",
     "output_type": "stream",
     "text": [
      "[3, 4, 5, 6, 7]\n"
     ]
    }
   ],
   "source": [
    "numeros = []\n",
    "\n",
    "numero = int(input('quieres escribir numeros empieza'))\n",
    "numeros.append(numero)\n",
    "while numero >- 0 :\n",
    "    numero = int(input(\"escribe un numero\"))\n",
    "    if numero <= 0:\n",
    "        break\n",
    "    numeros.append(numero)\n",
    "\n",
    "print(numeros)"
   ]
  },
  {
   "cell_type": "code",
   "execution_count": 30,
   "metadata": {},
   "outputs": [
    {
     "name": "stdout",
     "output_type": "stream",
     "text": [
      "escribe 5 numeros para la lista 1\n",
      "escribe 5 numeros para la lista 2\n",
      "la lista uno contiene  [1, 3, 6, 9, 12]\n",
      "la lista dos contiene  [2, 4, 6, 8, 10]\n",
      "la suma de las listas es  [3, 7, 12, 17, 22]\n"
     ]
    }
   ],
   "source": [
    "lista1 =[] \n",
    "lista2 =[] \n",
    "lista3 =[] \n",
    "\n",
    "print(\"escribe 5 numeros para la lista 1\")\n",
    "for _ in range(5):\n",
    "    valor =int(input(\"agrega un numero\"))\n",
    "    lista1.append(valor)\n",
    "\n",
    "print(\"escribe 5 numeros para la lista 2\")\n",
    "for _ in range(5):\n",
    "    valor =int(input(\"agrega un numero\"))\n",
    "    lista2.append(valor)\n",
    "\n",
    "\n",
    "for i in range(5):\n",
    "    suma = lista1[i] + lista2[i]\n",
    "    lista3.append(suma)\n",
    "\n",
    "\n",
    "print('la lista uno contiene ', lista1)\n",
    "print('la lista dos contiene ', lista2)\n",
    "print('la suma de las listas es ', lista3)"
   ]
  },
  {
   "cell_type": "code",
   "execution_count": null,
   "metadata": {},
   "outputs": [],
   "source": [
    "tempmin = []\n",
    "tempmax = []\n",
    "\n",
    "for dia in range (1, 6):\n",
    "    temratura_minma = float(input(f\"temperatura del dia {dia}\"))\n",
    "    temratura_maxima = float(input(f\"temperatura del dia {dia}\"))\n",
    "\n",
    "    tempmin.append(temratura_minma)\n",
    "    tempmax.append(temratura_maxima)\n",
    "\n",
    "\n",
    "print(\"\\nTemperatura media de cada día:\")\n",
    "for dia, (minima, maxima) in enumerate(zip(tempmin, tempmax), start=1):\n",
    "    media = (minima + maxima) / 2\n",
    "    print(f\"Día {dia}: {media:.1f} °C\")\n",
    "\n",
    "\n",
    "minima_global = min(tempmin)\n",
    "dias_minima_global = [i+1 for i, temp in enumerate(tempmin) if temp == minima_global]\n",
    "print(f\"\\nDías con la menor temperatura ({minima_global} °C): {', '.join(map(str, dias_minima_global))}\")\n",
    "\n",
    "\n",
    "temp_busqueda = float(input(\"\\nIngrese una temperatura para buscar días con temperatura máxima coincidente: \"))\n",
    "dias_max_coincidente = [i+1 for i, temp in enumerate(tempmax) if temp == temp_busqueda]\n",
    "if dias_max_coincidente:\n",
    "    print(f\"Días con temperatura máxima de {temp_busqueda} °C: {', '.join(map(str, dias_max_coincidente))}\")\n",
    "else:\n",
    "    print(\"No hay días con la temperatura máxima especificada.\")\n"
   ]
  },
  {
   "cell_type": "code",
   "execution_count": null,
   "metadata": {},
   "outputs": [],
   "source": [
    "import random\n",
    "\n",
    "numero_a_adivinar = random.randint(1, 100)\n",
    "\n",
    "intentos_restantes = 10\n",
    "\n",
    "while intentos_restantes > 0:\n",
    "    numero_introducido = int(input(\"Introduce un número del 1 al 100: \"))\n",
    "    \n",
    "    if numero_introducido == numero_a_adivinar:\n",
    "        print(f\"¡Felicidades! Has adivinado el número en el intento {11 - intentos_restantes}.\\n\")\n",
    "        break\n",
    "    elif numero_introducido < numero_a_adivinar:\n",
    "        print(\"El número a adivinar es mayor.\")\n",
    "    else:\n",
    "        print(\"El número a adivinar es menor.\")\n",
    "    \n",
    "    intentos_restantes -= 1\n",
    "    print(f\"Intentos restantes: {intentos_restantes}\\n\")\n",
    "\n",
    "if intentos_restantes == 0:\n",
    "    print(f\"Se agotaron los 10 intentos. El número a adivinar era: {numero_a_adivinar}\")\n"
   ]
  },
  {
   "cell_type": "code",
   "execution_count": null,
   "metadata": {},
   "outputs": [],
   "source": []
  }
 ],
 "metadata": {
  "kernelspec": {
   "display_name": "Python 3",
   "language": "python",
   "name": "python3"
  },
  "language_info": {
   "codemirror_mode": {
    "name": "ipython",
    "version": 3
   },
   "file_extension": ".py",
   "mimetype": "text/x-python",
   "name": "python",
   "nbconvert_exporter": "python",
   "pygments_lexer": "ipython3",
   "version": "3.12.0"
  }
 },
 "nbformat": 4,
 "nbformat_minor": 2
}
